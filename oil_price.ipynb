{
 "cells": [
  {
   "cell_type": "markdown",
   "metadata": {},
   "source": [
    "#  Forecast oil price evolution\n",
    "## Asset: WTI Crude Oil Spot Price Cushing, OK\n",
    "### Example of Time Series Analysis with python\n",
    "\n",
    "Created on Jun 02 13:33:22 2016\n",
    "Author: Alvaro Calle Cordon\n",
    "\n",
    "## Motivation\n",
    "\n",
    "Why do I do this?\n",
    "- just for fun\n",
    "- because I need to practise python and learn pandas\n",
    "- just to help other students in my way\n",
    "\n",
    "## Libraries\n",
    "\n",
    "Some important libraries I'll be probably using:\n",
    "\n",
    "- [Statsmodels](http://statsmodels.sourceforge.net/)\n",
    "- [Pandas](http://pandas.pydata.org/)\n",
    "- [Numpy](http://www.numpy.org/)\n",
    "- [Matplotlib](http://matplotlib.org/)\n",
    "- [Scipy](https://www.scipy.org/)"
   ]
  },
  {
   "cell_type": "code",
   "execution_count": 107,
   "metadata": {
    "collapsed": false
   },
   "outputs": [],
   "source": [
    "# imports\n",
    "import sys\n",
    "import csv as csv \n",
    "import pandas as pd\n",
    "import numpy as np\n",
    "import scipy.stats as stats\n",
    "import matplotlib.pyplot as plt\n",
    "import random as random\n",
    "import statsmodels.formula.api as smf\n",
    "from scipy import optimize\n",
    "\n",
    "# this allows plots to appear directly in the notebook\n",
    "%matplotlib inline"
   ]
  },
  {
   "cell_type": "markdown",
   "metadata": {},
   "source": [
    "## Example: WTI Crude Oil Spot Price Cushing, OK\n",
    "\n",
    "I get the data for Oil prices from 2014-01-01 until current date from [Quantdl](https://www.quandl.com/) and download the .csv file (\"EIA-PET_RWTC_D.csv\")"
   ]
  },
  {
   "cell_type": "code",
   "execution_count": 108,
   "metadata": {
    "collapsed": false
   },
   "outputs": [
    {
     "name": "stdout",
     "output_type": "stream",
     "text": [
      "            Value\n",
      "count  610.000000\n",
      "mean    65.160541\n",
      "std     25.894305\n",
      "min     26.190000\n",
      "25%     44.642500\n",
      "50%     54.920000\n",
      "75%     95.327500\n",
      "max    107.950000\n"
     ]
    },
    {
     "data": {
      "text/plain": [
       "(610, 1)"
      ]
     },
     "execution_count": 108,
     "metadata": {},
     "output_type": "execute_result"
    }
   ],
   "source": [
    "# read data into a DataFrame\n",
    "CSV_FILE = \"EIA-PET_RWTC_D.csv\"\n",
    "\n",
    "price_ts = pd.read_csv(CSV_FILE, parse_dates='Date', dayfirst=False, index_col = 0)\n",
    "print price_ts.describe()\n",
    "price_ts.shape"
   ]
  },
  {
   "cell_type": "markdown",
   "metadata": {},
   "source": [
    "We also calculate the monthly avereged oil price"
   ]
  },
  {
   "cell_type": "code",
   "execution_count": 109,
   "metadata": {
    "collapsed": false
   },
   "outputs": [],
   "source": [
    "# Monthly price average:\n",
    "price_per_month_ts = price_ts.resample(\"M\").mean()"
   ]
  },
  {
   "cell_type": "markdown",
   "metadata": {},
   "source": [
    "Let's make a plot of the time series and see if we observe any trend in the data."
   ]
  },
  {
   "cell_type": "code",
   "execution_count": 110,
   "metadata": {
    "collapsed": false
   },
   "outputs": [
    {
     "data": {
      "image/png": "[encoded data removed]",
      "text/plain": [
       "<matplotlib.figure.Figure at 0xd812e80>"
      ]
     },
     "metadata": {},
     "output_type": "display_data"
    }
   ],
   "source": [
    "# Plot style settings\n",
    "font = {'family' : 'serif',\n",
    "        'color'  : 'black',\n",
    "        'weight' : 'normal',\n",
    "        'size'   : 12,\n",
    "        }\n",
    "#xlabel('Dates',  fontdict=font)\n",
    "plt.ylabel('Prices', fontdict=font)\n",
    "plt.xticks(rotation=45)\n",
    "plt.title('Oil Prices', fontdict=font)\n",
    "plt.plot(price_ts.index, price_ts, linestyle='-',  color='r', linewidth=1.5, label= 'Daily')\n",
    "plt.plot(price_per_month_ts.index, price_per_month_ts, linestyle='--', color='b', linewidth=1.5, label= 'Monthly')\n",
    "plt.legend(loc='right', bbox_to_anchor=(.95, 0.85), ncol=1, fancybox=True, shadow=True)\n",
    "plt.tight_layout()\n",
    "plt.grid(False)\n",
    "plt.show()"
   ]
  },
  {
   "cell_type": "markdown",
   "metadata": {},
   "source": [
    "## Questions About the Data\n",
    "\n",
    "- Steep fall in prices starting May 2014\n",
    "\n",
    "  We can see that the Oil price has been falling since May 2014. There has been several Economic indicators that try to explain this trend. See for example the following article [Why did oil prices drop so much in 2014?](http://www.investopedia.com/ask/answers/030315/why-did-oil-prices-drop-so-much-2014.asp).\n",
    "\n",
    "  \n",
    "- Fluctuation in 2014\n",
    "\n",
    "  There has been a period of fall and raise in prices in 2015. A discussion about these fluctuations can be found here \n",
    "[Why are oil prices fluctuating?](http://www.business-standard.com/article/economy-policy/why-are-oil-prices-fluctuating-115041401159_1.html)\n",
    "\n",
    "\n",
    "- Current trend\n",
    "\n",
    "  There is a trend in 2016 that looks like a sign of a modest revival [Oil Prices Explained Signs of a Modest Revival](http://www.nytimes.com/interactive/2016/business/energy-environment/oil-prices.html?_r=0)\n",
    "  \n",
    "It is clear that a lot of political factors and global economy may influence oil price but we are not going to discuss it here.\n",
    "\n",
    "Let us try to forecast future oil prices via linear regression first. We'll go to a more sophisticated model later."
   ]
  },
  {
   "cell_type": "markdown",
   "metadata": {},
   "source": [
    "## Simple Linear Regression\n",
    "\n",
    "Simple linear regression is an approach for predicting a **quantitative response** using a **single feature** (or \"predictor\" or \"input variable\"). It takes the following form:\n",
    "\n",
    "$y = \\beta_0 + \\beta_1x$\n",
    "\n",
    "What does each term represent?\n",
    "- $y$ is the response\n",
    "- $x$ is the feature\n",
    "- $\\beta_0$ is the intercept\n",
    "- $\\beta_1$ is the coefficient for x\n",
    "\n",
    "Together, $\\beta_0$ and $\\beta_1$ are called the **model coefficients**. To create your model, you must \"learn\" the values of these coefficients. And once we've learned these coefficients, we can use the model to predict Prices!\n",
    "\n",
    "Let's use pyhon `statsmodels` to estimate the regression coefficients. I'll do two different fits. In the first one we consider all the data from 2014 to 2016. Because this fit takes into account a broader time period, it is not very realistic because it'll give us a **rather** general overview of the price trend. The other fit considers a bullish position in which prices are expected to continue with the trend of 2016. \n",
    "\n",
    "I would like to point out that prices are affected by other factors, such as global economic conditions, and these should be included in the form of regressors. Here we do a very simplistic analysis."
   ]
  },
  {
   "cell_type": "code",
   "execution_count": 111,
   "metadata": {
    "collapsed": false
   },
   "outputs": [
    {
     "data": {
      "text/html": [
       "<table class=\"simpletable\">\n",
       "<caption>OLS Regression Results</caption>\n",
       "<tr>\n",
       "  <th>Dep. Variable:</th>          <td>Value</td>      <th>  R-squared:         </th> <td>   0.834</td> \n",
       "</tr>\n",
       "<tr>\n",
       "  <th>Model:</th>                   <td>OLS</td>       <th>  Adj. R-squared:    </th> <td>   0.834</td> \n",
       "</tr>\n",
       "<tr>\n",
       "  <th>Method:</th>             <td>Least Squares</td>  <th>  F-statistic:       </th> <td>   3057.</td> \n",
       "</tr>\n",
       "<tr>\n",
       "  <th>Date:</th>             <td>Thu, 02 Jun 2016</td> <th>  Prob (F-statistic):</th> <td>2.38e-239</td>\n",
       "</tr>\n",
       "<tr>\n",
       "  <th>Time:</th>                 <td>13:35:44</td>     <th>  Log-Likelihood:    </th> <td> -2302.1</td> \n",
       "</tr>\n",
       "<tr>\n",
       "  <th>No. Observations:</th>      <td>   610</td>      <th>  AIC:               </th> <td>   4608.</td> \n",
       "</tr>\n",
       "<tr>\n",
       "  <th>Df Residuals:</th>          <td>   608</td>      <th>  BIC:               </th> <td>   4617.</td> \n",
       "</tr>\n",
       "<tr>\n",
       "  <th>Df Model:</th>              <td>     1</td>      <th>                     </th>     <td> </td>    \n",
       "</tr>\n",
       "<tr>\n",
       "  <th>Covariance Type:</th>      <td>nonrobust</td>    <th>                     </th>     <td> </td>    \n",
       "</tr>\n",
       "</table>\n",
       "<table class=\"simpletable\">\n",
       "<tr>\n",
       "      <td></td>         <th>coef</th>     <th>std err</th>      <th>t</th>      <th>P>|t|</th> <th>[95.0% Conf. Int.]</th> \n",
       "</tr>\n",
       "<tr>\n",
       "  <th>Intercept</th> <td>  106.0214</td> <td>    0.854</td> <td>  124.190</td> <td> 0.000</td> <td>  104.345   107.698</td>\n",
       "</tr>\n",
       "<tr>\n",
       "  <th>days</th>      <td>   -0.1342</td> <td>    0.002</td> <td>  -55.290</td> <td> 0.000</td> <td>   -0.139    -0.129</td>\n",
       "</tr>\n",
       "</table>\n",
       "<table class=\"simpletable\">\n",
       "<tr>\n",
       "  <th>Omnibus:</th>       <td> 8.789</td> <th>  Durbin-Watson:     </th> <td>   0.017</td>\n",
       "</tr>\n",
       "<tr>\n",
       "  <th>Prob(Omnibus):</th> <td> 0.012</td> <th>  Jarque-Bera (JB):  </th> <td>   8.678</td>\n",
       "</tr>\n",
       "<tr>\n",
       "  <th>Skew:</th>          <td>-0.263</td> <th>  Prob(JB):          </th> <td>  0.0130</td>\n",
       "</tr>\n",
       "<tr>\n",
       "  <th>Kurtosis:</th>      <td> 2.745</td> <th>  Cond. No.          </th> <td>    703.</td>\n",
       "</tr>\n",
       "</table>"
      ],
      "text/plain": [
       "<class 'statsmodels.iolib.summary.Summary'>\n",
       "\"\"\"\n",
       "                            OLS Regression Results                            \n",
       "==============================================================================\n",
       "Dep. Variable:                  Value   R-squared:                       0.834\n",
       "Model:                            OLS   Adj. R-squared:                  0.834\n",
       "Method:                 Least Squares   F-statistic:                     3057.\n",
       "Date:                Thu, 02 Jun 2016   Prob (F-statistic):          2.38e-239\n",
       "Time:                        13:35:44   Log-Likelihood:                -2302.1\n",
       "No. Observations:                 610   AIC:                             4608.\n",
       "Df Residuals:                     608   BIC:                             4617.\n",
       "Df Model:                           1                                         \n",
       "Covariance Type:            nonrobust                                         \n",
       "==============================================================================\n",
       "                 coef    std err          t      P>|t|      [95.0% Conf. Int.]\n",
       "------------------------------------------------------------------------------\n",
       "Intercept    106.0214      0.854    124.190      0.000       104.345   107.698\n",
       "days          -0.1342      0.002    -55.290      0.000        -0.139    -0.129\n",
       "==============================================================================\n",
       "Omnibus:                        8.789   Durbin-Watson:                   0.017\n",
       "Prob(Omnibus):                  0.012   Jarque-Bera (JB):                8.678\n",
       "Skew:                          -0.263   Prob(JB):                       0.0130\n",
       "Kurtosis:                       2.745   Cond. No.                         703.\n",
       "==============================================================================\n",
       "\n",
       "Warnings:\n",
       "[1] Standard Errors assume that the covariance matrix of the errors is correctly specified.\n",
       "\"\"\""
      ]
     },
     "execution_count": 111,
     "metadata": {},
     "output_type": "execute_result"
    }
   ],
   "source": [
    "# Linear regression (Fit 1)\n",
    "df = price_ts.reset_index()\n",
    "df['days'] = list(reversed(range(price_ts.shape[0])))\n",
    "lm_fit = smf.ols('Value ~ days', data = df).fit()\n",
    "trend_ts = pd.DataFrame({'Date': df['Date'], 'lm': lm_fit.fittedvalues})\n",
    "trend_ts = trend_ts.set_index('Date')\n",
    "lm_fit.summary()"
   ]
  },
  {
   "cell_type": "code",
   "execution_count": 112,
   "metadata": {
    "collapsed": false
   },
   "outputs": [
    {
     "data": {
      "text/html": [
       "<table class=\"simpletable\">\n",
       "<caption>OLS Regression Results</caption>\n",
       "<tr>\n",
       "  <th>Dep. Variable:</th>          <td>Value</td>      <th>  R-squared:         </th> <td>   0.800</td>\n",
       "</tr>\n",
       "<tr>\n",
       "  <th>Model:</th>                   <td>OLS</td>       <th>  Adj. R-squared:    </th> <td>   0.798</td>\n",
       "</tr>\n",
       "<tr>\n",
       "  <th>Method:</th>             <td>Least Squares</td>  <th>  F-statistic:       </th> <td>   383.9</td>\n",
       "</tr>\n",
       "<tr>\n",
       "  <th>Date:</th>             <td>Thu, 02 Jun 2016</td> <th>  Prob (F-statistic):</th> <td>2.58e-35</td>\n",
       "</tr>\n",
       "<tr>\n",
       "  <th>Time:</th>                 <td>13:35:45</td>     <th>  Log-Likelihood:    </th> <td> -236.14</td>\n",
       "</tr>\n",
       "<tr>\n",
       "  <th>No. Observations:</th>      <td>    98</td>      <th>  AIC:               </th> <td>   476.3</td>\n",
       "</tr>\n",
       "<tr>\n",
       "  <th>Df Residuals:</th>          <td>    96</td>      <th>  BIC:               </th> <td>   481.5</td>\n",
       "</tr>\n",
       "<tr>\n",
       "  <th>Df Model:</th>              <td>     1</td>      <th>                     </th>     <td> </td>   \n",
       "</tr>\n",
       "<tr>\n",
       "  <th>Covariance Type:</th>      <td>nonrobust</td>    <th>                     </th>     <td> </td>   \n",
       "</tr>\n",
       "</table>\n",
       "<table class=\"simpletable\">\n",
       "<tr>\n",
       "      <td></td>         <th>coef</th>     <th>std err</th>      <th>t</th>      <th>P>|t|</th> <th>[95.0% Conf. Int.]</th> \n",
       "</tr>\n",
       "<tr>\n",
       "  <th>Intercept</th> <td>  -69.6926</td> <td>    5.453</td> <td>  -12.781</td> <td> 0.000</td> <td>  -80.516   -58.869</td>\n",
       "</tr>\n",
       "<tr>\n",
       "  <th>days</th>      <td>    0.1904</td> <td>    0.010</td> <td>   19.593</td> <td> 0.000</td> <td>    0.171     0.210</td>\n",
       "</tr>\n",
       "</table>\n",
       "<table class=\"simpletable\">\n",
       "<tr>\n",
       "  <th>Omnibus:</th>       <td> 5.014</td> <th>  Durbin-Watson:     </th> <td>   0.244</td>\n",
       "</tr>\n",
       "<tr>\n",
       "  <th>Prob(Omnibus):</th> <td> 0.081</td> <th>  Jarque-Bera (JB):  </th> <td>   5.426</td>\n",
       "</tr>\n",
       "<tr>\n",
       "  <th>Skew:</th>          <td> 0.273</td> <th>  Prob(JB):          </th> <td>  0.0663</td>\n",
       "</tr>\n",
       "<tr>\n",
       "  <th>Kurtosis:</th>      <td> 4.015</td> <th>  Cond. No.          </th> <td>1.11e+04</td>\n",
       "</tr>\n",
       "</table>"
      ],
      "text/plain": [
       "<class 'statsmodels.iolib.summary.Summary'>\n",
       "\"\"\"\n",
       "                            OLS Regression Results                            \n",
       "==============================================================================\n",
       "Dep. Variable:                  Value   R-squared:                       0.800\n",
       "Model:                            OLS   Adj. R-squared:                  0.798\n",
       "Method:                 Least Squares   F-statistic:                     383.9\n",
       "Date:                Thu, 02 Jun 2016   Prob (F-statistic):           2.58e-35\n",
       "Time:                        13:35:45   Log-Likelihood:                -236.14\n",
       "No. Observations:                  98   AIC:                             476.3\n",
       "Df Residuals:                      96   BIC:                             481.5\n",
       "Df Model:                           1                                         \n",
       "Covariance Type:            nonrobust                                         \n",
       "==============================================================================\n",
       "                 coef    std err          t      P>|t|      [95.0% Conf. Int.]\n",
       "------------------------------------------------------------------------------\n",
       "Intercept    -69.6926      5.453    -12.781      0.000       -80.516   -58.869\n",
       "days           0.1904      0.010     19.593      0.000         0.171     0.210\n",
       "==============================================================================\n",
       "Omnibus:                        5.014   Durbin-Watson:                   0.244\n",
       "Prob(Omnibus):                  0.081   Jarque-Bera (JB):                5.426\n",
       "Skew:                           0.273   Prob(JB):                       0.0663\n",
       "Kurtosis:                       4.015   Cond. No.                     1.11e+04\n",
       "==============================================================================\n",
       "\n",
       "Warnings:\n",
       "[1] Standard Errors assume that the covariance matrix of the errors is correctly specified.\n",
       "[2] The condition number is large, 1.11e+04. This might indicate that there are\n",
       "strong multicollinearity or other numerical problems.\n",
       "\"\"\""
      ]
     },
     "execution_count": 112,
     "metadata": {},
     "output_type": "execute_result"
    }
   ],
   "source": [
    "# Linear regression (Fit 2)\n",
    "df2 = df[df['Date']>'2016']\n",
    "lm_fit2 = smf.ols('Value ~ days', data = df2).fit()\n",
    "trend2016_ts = pd.DataFrame({'Date': df2['Date'], 'lm': lm_fit2.fittedvalues})\n",
    "trend2016_ts = trend2016_ts.set_index('Date')\n",
    "lm_fit2.summary()"
   ]
  },
  {
   "cell_type": "markdown",
   "metadata": {},
   "source": [
    "## Plot of the time series and predictions\n",
    "\n",
    "We can see in the following plot that the two regressions give diametrically opposed predictions. According to the 2016 trend, the linear regression would predict a raise in oil prices in the future."
   ]
  },
  {
   "cell_type": "code",
   "execution_count": 113,
   "metadata": {
    "collapsed": false
   },
   "outputs": [
    {
     "data": {
      "image/png": "[encoded data removed]",
      "text/plain": [
       "<matplotlib.figure.Figure at 0xdb93048>"
      ]
     },
     "metadata": {},
     "output_type": "display_data"
    }
   ],
   "source": [
    "#xlabel('Dates',  fontdict=font)\n",
    "plt.ylabel('Prices', fontdict=font)\n",
    "plt.xticks(rotation=45)\n",
    "plt.title('Oil Prices', fontdict=font)\n",
    "plt.plot(price_ts.index, price_ts, linestyle='-', color='r', linewidth=1.5, label= 'Daily')\n",
    "plt.plot(trend_ts.index, trend_ts, linestyle='-', color='b', linewidth=1.5, label= 'Linear Model')\n",
    "plt.plot(trend2016_ts.index, trend2016_ts, linestyle='-', color='g', linewidth=2, label= 'Trend 2016')\n",
    "plt.legend(loc='right', bbox_to_anchor=(.95, 0.8), ncol=1, fancybox=True, shadow=True)\n",
    "plt.tight_layout()\n",
    "plt.grid(False)\n",
    "plt.show()"
   ]
  },
  {
   "cell_type": "markdown",
   "metadata": {},
   "source": [
    "## Autoregressive analysis with GARCH(1,1)\n",
    "\n",
    "The series that we are analyzing is closing price of Oil from 2014 to 2016. We can define the returns as the ratio of the difference in price at $t$ and $t-1$ to the closing price at $t-1$.\n",
    "\n",
    "\\begin{eqnarray}\n",
    "R_t = \\frac{P_{t+1} - P_t}{P_t}\\, .\n",
    "\\end{eqnarray}\n",
    "\n",
    "We can smooth out this relation by taking the difference between the natural logarithms, i.e., $r_t = \\log(P_{t+1}) - \\log(P_t)$. The returns is a function highly variable with time, mostly with a random character. We define the following function:"
   ]
  },
  {
   "cell_type": "code",
   "execution_count": 114,
   "metadata": {
    "collapsed": true
   },
   "outputs": [],
   "source": [
    "# Returns\n",
    "def Returns(df):\n",
    "\n",
    "    (m,n) = df.shape\n",
    "\n",
    "    return_df = pd.DataFrame(np.nan, index=range(0,m), columns=range(0,n))\n",
    "    return_df.index = df.index\n",
    "\n",
    "    for t in range(1,m): # rows loop\n",
    "        for k in range(0,n): # columns\n",
    "#            return_df.iloc[t,k] = (df.iloc[t,k] - df.iloc[t-1,k])/df.iloc[t-1,k]\n",
    "            return_df.iloc[t,k] = np.log(df.iloc[t,k]/df.iloc[t-1,k])\n",
    "            return_df.iloc[t,k] = return_df.iloc[t,k]*100. # precent %\n",
    "        \n",
    "    return return_df"
   ]
  },
  {
   "cell_type": "markdown",
   "metadata": {},
   "source": [
    "We calculate the percentage of returns and its main statistics (mean, standard deviation, quantiles, ...)"
   ]
  },
  {
   "cell_type": "code",
   "execution_count": 115,
   "metadata": {
    "collapsed": false
   },
   "outputs": [
    {
     "data": {
      "text/html": [
       "<div>\n",
       "<table border=\"1\" class=\"dataframe\">\n",
       "  <thead>\n",
       "    <tr style=\"text-align: right;\">\n",
       "      <th></th>\n",
       "      <th>0</th>\n",
       "    </tr>\n",
       "  </thead>\n",
       "  <tbody>\n",
       "    <tr>\n",
       "      <th>count</th>\n",
       "      <td>609.000000</td>\n",
       "    </tr>\n",
       "    <tr>\n",
       "      <th>mean</th>\n",
       "      <td>0.111930</td>\n",
       "    </tr>\n",
       "    <tr>\n",
       "      <th>std</th>\n",
       "      <td>2.684284</td>\n",
       "    </tr>\n",
       "    <tr>\n",
       "      <th>min</th>\n",
       "      <td>-11.289222</td>\n",
       "    </tr>\n",
       "    <tr>\n",
       "      <th>25%</th>\n",
       "      <td>-1.087964</td>\n",
       "    </tr>\n",
       "    <tr>\n",
       "      <th>50%</th>\n",
       "      <td>0.150005</td>\n",
       "    </tr>\n",
       "    <tr>\n",
       "      <th>75%</th>\n",
       "      <td>1.457377</td>\n",
       "    </tr>\n",
       "    <tr>\n",
       "      <th>max</th>\n",
       "      <td>11.125756</td>\n",
       "    </tr>\n",
       "  </tbody>\n",
       "</table>\n",
       "</div>"
      ],
      "text/plain": [
       "                0\n",
       "count  609.000000\n",
       "mean     0.111930\n",
       "std      2.684284\n",
       "min    -11.289222\n",
       "25%     -1.087964\n",
       "50%      0.150005\n",
       "75%      1.457377\n",
       "max     11.125756"
      ]
     },
     "execution_count": 115,
     "metadata": {},
     "output_type": "execute_result"
    }
   ],
   "source": [
    "returns = Returns(price_ts)\n",
    "returns = returns.dropna()\n",
    "\n",
    "#returns.head()\n",
    "returns.describe()"
   ]
  },
  {
   "cell_type": "code",
   "execution_count": 116,
   "metadata": {
    "collapsed": false
   },
   "outputs": [
    {
     "data": {
      "image/png": "[encoded data removed]",
      "text/plain": [
       "<matplotlib.figure.Figure at 0xdbb3c88>"
      ]
     },
     "metadata": {},
     "output_type": "display_data"
    }
   ],
   "source": [
    "#xlabel('Dates',  fontdict=font)\n",
    "plt.ylabel('Returns', fontdict=font)\n",
    "plt.xticks(rotation=45)\n",
    "plt.title('Oil Returns', fontdict=font)\n",
    "plt.plot(returns.index, returns, linestyle='-', color='r', linewidth=1.5, label= 'Daily')\n",
    "plt.legend(loc='right', bbox_to_anchor=(.95, 0.9), ncol=1, fancybox=True, shadow=True)\n",
    "plt.tight_layout()\n",
    "plt.grid(False)\n",
    "plt.show()"
   ]
  },
  {
   "cell_type": "markdown",
   "metadata": {},
   "source": [
    "We can now estimate the risk of this series. One measure of the risk would be the sensitivity to the changes in oil price, therefore, as a first approximation to access the level of risk, we can consider the standard deviation of the returns.\n",
    "\n",
    "However, we can construct a more sophisticated model of risk. It is quite natural to think that the risk at time $t$ can be affected by the movements at earlier times (returns and risks). If we keep things simple, and we only care about what happened the day before, we can construct the following model of risk **GARCH(1,1)**:\n",
    "\\begin{equation}\n",
    "\\sigma_t^2 = \\gamma + \\alpha\\ r_{t-1}^2 + \\beta\\ \\sigma_{t-1}^2\\, .\n",
    "\\end{equation}\n",
    "Obviously, this model can be extended to include *p* measures of rentability, and *q* measures of risk at earlier times *t-2, t-3, ...*. In general this is considered the GARCH(p,q) model. A very nice presentation of this model (and other topics) can be found in [Quantatrisk](http://www.quantatrisk.com/2013/03/30/garchpq-model-and-exit-strategy-for-intraday-algorithmic-traders/).\n",
    "\n",
    "To find the parameters $(\\gamma, \\alpha, \\beta)$ I will find the maximum of the likelihooh function, defined as,\n",
    "\\begin{eqnarray}\n",
    "\\log L = -\\left\\lbrace \\sum_{i} \\log \\sigma^2_i + \\frac{r^2_i}{\\sigma^2_i} \\right\\rbrace \\,.\n",
    "\\end{eqnarray}\n",
    "This implies the assumption of considering the returns being normally distributed random variables $r_t \\sim N(\\mu, \\sigma_t)$, where $\\mu$ is the mean return over the period that we are considering. Let us check our assumptions by plotting the histogram of (normed) returns together with the normal distribution."
   ]
  },
  {
   "cell_type": "code",
   "execution_count": 117,
   "metadata": {
    "collapsed": false
   },
   "outputs": [
    {
     "data": {
      "text/plain": [
       "<matplotlib.legend.Legend at 0xd48d400>"
      ]
     },
     "execution_count": 117,
     "metadata": {},
     "output_type": "execute_result"
    },
    {
     "data": {
      "image/png": "[encoded data removed]",
      "text/plain": [
       "<matplotlib.figure.Figure at 0xdcf4da0>"
      ]
     },
     "metadata": {},
     "output_type": "display_data"
    }
   ],
   "source": [
    "plt.xlabel('Returns',  fontdict=font)\n",
    "plt.ylabel('Frequency', fontdict=font)\n",
    "\n",
    "Dates = returns.index\n",
    "r = returns.iloc[:,0]\n",
    "\n",
    "r.tolist()\n",
    "rnorm = (r - np.mean(r))/np.std(r)\n",
    "d = {'rnorm' : rnorm}\n",
    "rnorm_df = pd.DataFrame(d, index=Dates)\n",
    "\n",
    "r = sorted(r.tolist())\n",
    "#m = np.mean(r)\n",
    "#s = np.std(r)\n",
    "#x = np.linspace(-3,3,100)\n",
    "#g = stats.norm.pdf(r,m,s)\n",
    "g = stats.norm.pdf(r,0,1)\n",
    "\n",
    "plt.hist(r, bins=25, normed=True, label='Oil renturns')\n",
    "plt.plot(r, g, linestyle='-', color='r', linewidth=1.5, label='N(0,1)')\n",
    "plt.legend(loc='upper right', bbox_to_anchor=(1., 1.), ncol=1, fancybox=True, shadow=True)"
   ]
  },
  {
   "cell_type": "markdown",
   "metadata": {},
   "source": [
    "Next, we perform a minimization of the likelihood function in order to find the $\\alpha$, $\\beta$ and $\\gamma$ parameters in the auto-regressive model. To do so we create a GARCH(1,1) likelihood function:"
   ]
  },
  {
   "cell_type": "code",
   "execution_count": 118,
   "metadata": {
    "collapsed": false,
    "scrolled": true
   },
   "outputs": [
    {
     "name": "stdout",
     "output_type": "stream",
     "text": [
      "Optimization terminated successfully.\n",
      "         Current function value: 23972.311156\n",
      "         Iterations: 231\n",
      "         Function evaluations: 444\n",
      "\n",
      " **** Best result ****\n",
      " omega = 0.000011\n",
      " alpha = 1.219888\n",
      " beta  = 0.303673\n",
      " *********************\n"
     ]
    }
   ],
   "source": [
    "def GARCH11_logL(param, r):\n",
    "    gamma, alpha, beta = param\n",
    "    n = len(r)\n",
    "    s = np.ones(n)*0.01\n",
    "    s[2] = np.var(r[0:3]) # care here is the variance!\n",
    "    for i in range(3, n):\n",
    "        s[i] = gamma + alpha*r[i-1]**2 + beta*(s[i-1]) \n",
    "        + gamma**2 + alpha**2 + beta**2 # Shrink coefficients\n",
    "    logL = - sum(-np.log(s) - np.power(r,2)/s) \n",
    "    return logL\n",
    "\n",
    "o = optimize.fmin(GARCH11_logL,np.array([.1,.1,.1]), args=(r,), full_output=1)\n",
    "R = np.abs(o[0])\n",
    "print\n",
    "print(\" **** Best result ****\")\n",
    "print(\" omega = %.6f\\n alpha = %.6f\\n beta  = %.6f\" % (R[0], R[1], R[2]))\n",
    "print(\" *********************\")"
   ]
  },
  {
   "cell_type": "markdown",
   "metadata": {},
   "source": [
    "Our risk model is then:\n",
    "\\begin{eqnarray}\n",
    "% omega = 0.000011 alpha = 1.2199 beta  = 0.3037\n",
    "\\sigma^2_t = 0.000011 + 1.2199 \\ r^2_{t-1} + 0.3037\\ \\sigma^2_{t-1}\\, .\n",
    "\\end{eqnarray}\n",
    "\n",
    "We now apply this risk model to our time series."
   ]
  },
  {
   "cell_type": "markdown",
   "metadata": {},
   "source": [
    "## Predicting future prices with GARCH(1,1)\n",
    "\n",
    "We now turn to predicting the price movement beyond the last date registered in our data, which is, "
   ]
  },
  {
   "cell_type": "code",
   "execution_count": 119,
   "metadata": {
    "collapsed": false
   },
   "outputs": [
    {
     "data": {
      "text/plain": [
       "Timestamp('2016-05-20 00:00:00')"
      ]
     },
     "execution_count": 119,
     "metadata": {},
     "output_type": "execute_result"
    }
   ],
   "source": [
    "returns.index[0]"
   ]
  },
  {
   "cell_type": "markdown",
   "metadata": {},
   "source": [
    "We define the `risk_model` function bellow, which gives us the volatility at time *t* given data until *t-3*."
   ]
  },
  {
   "cell_type": "code",
   "execution_count": 120,
   "metadata": {
    "collapsed": false
   },
   "outputs": [
    {
     "data": {
      "text/plain": [
       "-0.13245594994323873"
      ]
     },
     "execution_count": 120,
     "metadata": {},
     "output_type": "execute_result"
    }
   ],
   "source": [
    "def risk_model(param, r):\n",
    "    # returns variance\n",
    "    gamma, alpha, beta = param\n",
    "    n = len(r)\n",
    "    s = np.ones(n)*0.01\n",
    "    s[2] = np.var(r[0:3])\n",
    "    for i in range(3, n):\n",
    "        s[i] = gamma + alpha*r[i-1]**2 + beta*(s[i-1]) \n",
    "    return s\n",
    "\n",
    "par = [R[0], R[1], R[2]]\n",
    "\n",
    "# Last days returns:\n",
    "r3t = returns.iloc[0:3,0]\n",
    "s3t = np.sqrt(risk_model(par, r3t))\n",
    "\n",
    "st = s[0]\n",
    "mu = np.mean(rt)\n",
    "\n",
    "# Generate a random variates N(mu, sigma)\n",
    "random.normalvariate(mu, st)"
   ]
  },
  {
   "cell_type": "markdown",
   "metadata": {},
   "source": [
    "This last random variate would give us an idea of the **return** on 2016-05-21. We can continue exprapolating returns based on previous estimates, and also calculating prices."
   ]
  },
  {
   "cell_type": "code",
   "execution_count": null,
   "metadata": {
    "collapsed": true
   },
   "outputs": [],
   "source": []
  }
 ],
 "metadata": {
  "kernelspec": {
   "display_name": "Python 2",
   "language": "python",
   "name": "python2"
  },
  "language_info": {
   "codemirror_mode": {
    "name": "ipython",
    "version": 2
   },
   "file_extension": ".py",
   "mimetype": "text/x-python",
   "name": "python",
   "nbconvert_exporter": "python",
   "pygments_lexer": "ipython2",
   "version": "2.7.11"
  }
 },
 "nbformat": 4,
 "nbformat_minor": 0
}
